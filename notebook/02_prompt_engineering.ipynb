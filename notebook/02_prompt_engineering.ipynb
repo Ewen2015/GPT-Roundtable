{
 "cells": [
  {
   "cell_type": "code",
   "execution_count": 16,
   "id": "92bcfcbf-9410-484f-9cd2-3311278e2c10",
   "metadata": {
    "tags": []
   },
   "outputs": [],
   "source": [
    "import json\n",
    "import openai\n",
    "from roundtable import setup_openai, get_prompt, get_completion\n",
    "\n",
    "from IPython.display import display, Markdown"
   ]
  },
  {
   "cell_type": "code",
   "execution_count": 2,
   "id": "359f9879-203a-44cd-8975-8db42c8cc5ed",
   "metadata": {
    "tags": []
   },
   "outputs": [],
   "source": [
    "path_config = \"/Users/ewang1/Documents/openai.json\"\n",
    "\n",
    "topic = \"教育的内核是获得自由\"\n",
    "person1 = \"康德\"\n",
    "person2 = \"芒格\"\n",
    "person3 = \"波伏娃\"\n",
    "\n",
    "setup_openai(path_config)\n",
    "prompt = get_prompt(topic, person1, person2, person3)\n",
    "response = get_completion(prompt)"
   ]
  },
  {
   "cell_type": "code",
   "execution_count": 3,
   "id": "73cb89a9-9112-4b29-abd2-5d4e107cfc75",
   "metadata": {
    "tags": []
   },
   "outputs": [
    {
     "data": {
      "text/markdown": [
       "**康德：** 人的内在自由是教育的核心。在自由的前提下，人才能够充分发展自我，思考和选择，进而实现自己的价值。因此，“最后的目的在于人的崇高完善”，教育要让人成为自己的主人，让人具备自我决策能力与鉴别力，才能创造属于自己的人生。\n",
       "\n",
       "**芒格：** 教育的内核应该是能够解决复杂问题的能力。教育必须培养人们的创新思维，让他们适应现代社会需要。人们必须不断更新技能和知识，否则就是在溺死在日益复杂的大海里。教育不能只是学理论，而要注重实践中的应用。\n",
       "\n",
       "**波伏娃：** 对于我来说，教育的内核是关注个人的主观性和自我认知，同时也要关注整体社会的公平。每个人都有自己的天赋和需求，教育要满足每个人个性化的需求，以帮助他们发掘并发挥个人的潜能。教育也必须具有社会意识，注重全球化和超越国界的合作，不仅为个人，也为整体社会打造良好的未来。"
      ],
      "text/plain": [
       "<IPython.core.display.Markdown object>"
      ]
     },
     "metadata": {},
     "output_type": "display_data"
    }
   ],
   "source": [
    "display(Markdown(response))"
   ]
  },
  {
   "cell_type": "code",
   "execution_count": 8,
   "id": "5c99c308-e5a6-4535-b9d3-b2e0196ea522",
   "metadata": {
    "tags": []
   },
   "outputs": [],
   "source": [
    "topic = \"每个人只有成为企业家，才能获得真正的自由\"\n",
    "person1 = \"芒格\"\n",
    "person2 = \"马斯克\"\n",
    "person3 = \"乔布斯\"\n",
    "\n",
    "setup_openai(path_config)\n",
    "prompt = get_prompt(topic, person1, person2, person3)\n",
    "response = get_completion(prompt, temperature=1)"
   ]
  },
  {
   "cell_type": "code",
   "execution_count": 9,
   "id": "8c513bf8-1ca4-4886-aafc-66295e62f696",
   "metadata": {
    "tags": []
   },
   "outputs": [
    {
     "data": {
      "text/markdown": [
       "**芒格(实用主义投资家):** 成为企业家可以给人带来财务自由，但这仅是自由的表层而已。真正的自由应该是在精神和思想上的。人们应该通过学习和教育了解自己真正想要的东西，然后追求自己的目标和梦想。这才是真正的自由。\n",
       "\n",
       "**马斯克(创业家，特斯拉和SpaceX创始人):** 我从小就追求自由。为了实现这一目标，我成为了一个企业家。但我认为，自由和金钱并不相关。企业家可以追求自己的梦想和创造力，但这并不会带来真正的自由。真正的自由来自于被社会认可和赞赏，从而能够在一定程度上掌控自己的命运。\n",
       "\n",
       "**乔布斯(苹果创始人):** 我同意芒格先生的看法，人们必须通过自我了解和探索来达到真正的自由。但成为一个企业家并不是唯一的途径。对我来说，最终的目的是让自己感到满意和幸福。我的经历告诉我，只有在做自己喜欢和擅长的事情时，才可能获得真正的自由。无论是成为企业家还是其他方式，人们都应该找到属于自己的道路。"
      ],
      "text/plain": [
       "<IPython.core.display.Markdown object>"
      ]
     },
     "metadata": {},
     "output_type": "display_data"
    }
   ],
   "source": [
    "display(Markdown(response))"
   ]
  },
  {
   "cell_type": "code",
   "execution_count": 14,
   "id": "0dbd47f6-4d27-4214-8217-dc08819a46fa",
   "metadata": {
    "tags": []
   },
   "outputs": [
    {
     "data": {
      "text/markdown": [
       "**芒格(实用主义投资家):** 作为一个实用主义投资家，我认为每个人只有成为企业家，才能获得真正的自由。经商可以让一个人拥有自己的事业、自己的时间、自己的财富，实现自我价值和自由。我自己就是以创业起家起步，通过投资获得更多的财富，过上了理想的生活。但要想成为一位优秀的企业家，还需要不断学习、不断精进自己的能力和应变能力。\n",
       "\n",
       "**马斯克(创业公司CEO):** 我同意芒格的观点。作为一位创业公司的CEO，我曾经从一个创业小公司起步，逐渐在几个细分市场扩大成自己核心产业帝国。创业者通过商业模式创新，不断迭代升级品牌产品服务，实现行业霸主和天价市值的背后，都是自身卓然的企业家天赋和不断涵养的创新基因。所以，如果你想拥有更多的自由和事业上的成功，就不要放弃任何一种有前景的商业机会。同时保持开放的思维，吸收优秀的合伙人，克服所有的不可能。\n",
       "\n",
       "**乔布斯(苹果创始人):** 看完前两位的说法，我也发表一下自己的看法。作为苹果的创始人，我认为真正的自由并不是只靠经商而来。相当一部分成就重要还要依靠你内心中提升系统性和精细化思考的努力，完善专注自己心中感知到的产品品质，在向高标准学习中知行合一，不断地引领市场趋势创新和自主操作实践的过程支撑。有时候人被技术驱动使自我的成熟过程比创业难易因人性需要得普度而导致苦痛。然而，通往近乎更最成功的这条道路并不应该是此消彼长受害者的比赛，而是可以进行分享，整体 更优或和声共鸣的合作后个体化大合唱。"
      ],
      "text/plain": [
       "<IPython.core.display.Markdown object>"
      ]
     },
     "metadata": {},
     "output_type": "display_data"
    }
   ],
   "source": [
    "response = get_completion(prompt, temperature=1.2)\n",
    "display(Markdown(response))"
   ]
  },
  {
   "cell_type": "code",
   "execution_count": 18,
   "id": "27030e52-47f0-44d8-a610-25a99af64c40",
   "metadata": {
    "tags": []
   },
   "outputs": [],
   "source": [
    "topic = \"多漂亮才算漂亮\"\n",
    "person1 = \"林徽因\"\n",
    "person2 = \"波伏娃\"\n",
    "person3 = \"玛丽莲梦露\"\n",
    "\n",
    "setup_openai(path_config)\n",
    "prompt = get_prompt(topic, person1, person2, person3)"
   ]
  },
  {
   "cell_type": "code",
   "execution_count": 21,
   "id": "8f0557fd-3307-4896-8ea3-6227f554dc65",
   "metadata": {
    "tags": []
   },
   "outputs": [
    {
     "data": {
      "text/markdown": [
       "**林徽因：** 多漂亮才算漂亮？我认为漂亮不仅仅是外表，更多的是内在的气质和品格。一个人内在的美才是真正留给别人的东西。我这么多年一直都是注重内心修养的，哪怕外表已经没有当年那么出众了，但依然可以给人以美感和魅力。\n",
       "\n",
       "**波伏娃：** 漂亮这种事情，就像爱情一样，有人看重外表，有人看重内心。我个人来说，美并不是一个人的全部。反而过于注重外貌会失去自我和自信，甚至会丧失独立思考的能力。在我看来，真正的美来自精神生命的力量，只有敢于面对自己的缺点并且勇于攻克自己的困难，才能变得更有内涵、更有深度。\n",
       "\n",
       "**玛丽莲梦露：** 呵呵，我真的很难说多漂亮才算漂亮。虽然每个人的审美观都不同，但漂亮是必须有的，而且不能只有一点点。看到自己美丽的身影，看到自己又让人心动的表情，真是难以抗拒的感觉。不过，我也同意，美丽和内在是同等重要的。因为长久以来，我已经意识到，美貌可以提升一个人的自信和能力，也能让他们更有勇气走出舒适区并探索自己的潜力。"
      ],
      "text/plain": [
       "<IPython.core.display.Markdown object>"
      ]
     },
     "metadata": {},
     "output_type": "display_data"
    }
   ],
   "source": [
    "response = get_completion(prompt, temperature=1)\n",
    "display(Markdown(response))"
   ]
  },
  {
   "cell_type": "code",
   "execution_count": null,
   "id": "b2d1c2ec-ccda-4850-8256-29a32f58edd3",
   "metadata": {},
   "outputs": [],
   "source": []
  }
 ],
 "metadata": {
  "kernelspec": {
   "display_name": "Python 3 (ipykernel)",
   "language": "python",
   "name": "python3"
  },
  "language_info": {
   "codemirror_mode": {
    "name": "ipython",
    "version": 3
   },
   "file_extension": ".py",
   "mimetype": "text/x-python",
   "name": "python",
   "nbconvert_exporter": "python",
   "pygments_lexer": "ipython3",
   "version": "3.9.13"
  }
 },
 "nbformat": 4,
 "nbformat_minor": 5
}
